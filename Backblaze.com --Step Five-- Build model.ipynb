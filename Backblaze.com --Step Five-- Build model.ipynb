{
    "cells": [
        {
            "cell_type": "markdown",
            "metadata": {},
            "source": "# A Complete Solution to the BackBaze.com Kaggle Problem"
        },
        {
            "cell_type": "markdown",
            "metadata": {},
            "source": "## Step Five.  \n### Modeling the data."
        },
        {
            "cell_type": "markdown",
            "metadata": {},
            "source": "## Table of contents"
        },
        {
            "cell_type": "markdown",
            "metadata": {},
            "source": "1. [Introduction](#10)<br>\n\n2. [Establish environment and parameters](#20)<br>\n3. [Create a target window.](#30)<br>\n4. [Create training, testing and validation groups ](#40)<br>\n5. [Prepare the data for the model ](#50)<br>\n6. [Build the model ](#60)<br>\n7. [Evaluate model](#70)<br>\n8. [Format the scored data for further evaluation](#80)<br>\n9. [Export the data for use in Step 6](#90)<br>"
        },
        {
            "cell_type": "markdown",
            "metadata": {},
            "source": "### 1.0 Introduction <a id=\"10\"></a>"
        },
        {
            "cell_type": "markdown",
            "metadata": {},
            "source": "Note this is part five of a six-part solution.\n\nBackBlaze.com, you are the \"GOAT.\" You are the \"cat's meow.\" You \"Rock the House.\" In case you don't know why BackBaze.com is so totally \"kick-ass,\" they open-sourced a vast set of hard drive information a few years ago and continue updating it each quarter.  What a treasure trove of superb data.  BackBlaze.com, thank you from the bottom of my heart.\n\nThe backblaze.com data includes operational metrics from hard drives with an indicator of a hard-drive failure.  It is an excellent source for teaching techniques related to machine failure.  Again, thank you for making this available to the open-source community.\nHere is a link to the data.\n\nhttps://www.backblaze.com/b2/hard-drive-test-data.html\n\nMy goal in this series of articles is not to give the best solution with the highest AUC.  My goal is to show you how to approach equipment failure problems and build solutions that reflect realistic accuracy, and provide an easy transition from the lab to the real world.\n\nI will use a Spark/Python Jupyter notebook inside IBM's Watson Studio on the cloud as a tool in this discussion.\n\nhttps://www.ibm.com/cloud/watson-studio\n\nI will also be using cloud object storage on the IBM cloud.\n\nhttps://www.ibm.com/cloud/block-storage\n\n\n\n"
        },
        {
            "cell_type": "markdown",
            "metadata": {},
            "source": "To be fully transparent, I know very little about the operation and management of disk drives.  I am not a subject matter expert in disk drives.  My lack of expertise is critical to note because developing data science solutions usually requires some knowledge of the subject matter.  Because of this lack of knowledge, I am sure this solution is lacking in some areas.  Despite this, I have made assumptions when necessary, documented gaps in my understanding, and plowed through the problem from beginning to end.   Consider this work a template to solve the problem, not a solution specifically built for Backblaze to operationalize immediately.  Undoubtedly, I would need to consult with disk drive experts before finalizing the solution."
        },
        {
            "cell_type": "markdown",
            "metadata": {},
            "source": "In the fifth article of the series, I create build a model."
        },
        {
            "cell_type": "markdown",
            "metadata": {},
            "source": "### 2.0 Establish environment and Parameters <a id=\"20\"></a>"
        },
        {
            "cell_type": "markdown",
            "metadata": {},
            "source": "Establish Libraries"
        },
        {
            "cell_type": "code",
            "execution_count": 2,
            "metadata": {},
            "outputs": [],
            "source": "from functools import reduce\nfrom pyspark.sql import DataFrame\n\nimport pyspark.sql.functions as F\nfrom pyspark.sql.functions import *\n\nimport pandas as pd\n\nfrom pyspark.ml.feature import StringIndexer, VectorAssembler\nfrom pyspark.ml.evaluation import MulticlassClassificationEvaluator\nfrom sklearn.metrics import confusion_matrix\nfrom pyspark.ml.classification import GBTClassifier\nimport numpy as np\n\nspark.conf.set(\"spark.sql.broadcastTimeout\",  7200000)\nspark.conf.set(\"spark.sql.parquet.compression.codec\", \"gzip\")"
        },
        {
            "cell_type": "markdown",
            "metadata": {},
            "source": "Define Cloud Object Storage Credentials"
        },
        {
            "cell_type": "code",
            "execution_count": 3,
            "metadata": {},
            "outputs": [],
            "source": "# The code was removed by Watson Studio for sharing."
        },
        {
            "cell_type": "markdown",
            "metadata": {},
            "source": "Read in Data"
        },
        {
            "cell_type": "code",
            "execution_count": 4,
            "metadata": {},
            "outputs": [
                {
                    "name": "stdout",
                    "output_type": "stream",
                    "text": "(545127, 233)\n"
                }
            ],
            "source": "df = spark.read.parquet(cos.url('data_2020_model.parquet', 'backblazedata-donotdelete-pr-cij57grgkoctem'))\nprint((df.count(), len(df.columns)))"
        },
        {
            "cell_type": "markdown",
            "metadata": {},
            "source": "### 3.0 Create a target window. <a id=\"30\"></a>"
        },
        {
            "cell_type": "markdown",
            "metadata": {},
            "source": "Typically, industrial machines fail infrequently.  Manufacturers design and build them to last and perform reliably over time.  Reliable machines mean we have few incidences of failure to study and model. One standard way of dealing with a small number of failures is to expand the failure window.  Instead of predicting the specific day of failure in our current use case, predict the days leading up to failure.  Expanding the failure window makes sense.  When a machine fails, it rarely just happens.   It is rare for a machine to be perfect on Monday, terrible on Tuesday, and then perfect on Wednesday without some intervention.  Machines, like humans, wear down over time.  Because of this,  we can incorporate the days before a failure as part of the dependent variable.\n\nThere is no magic in determining the length of the failure window.  The only hard rule is that it needs to fit the context of the problem.  For example, if a machine lasts 20 years, a 5-second failure window is a little short.  If it fails every twenty years, a window of three, six, or nine months is likely more reasonable.  Likewise, a six-day failure window does not make much sense if a machine fails twice a day.\n\nIn the current use case, I used an eleven-day failure window.  Again, there is nothing magical about that.  I chose it because it makes sense.\n\nAgain, there is a lot about disk drives that I don't know.  I am not a subject matter expert regarding disk drives and storage.  Someone with more expertise in the space may argue for a larger or smaller window.  Also, the target window is a parameter that you can tune.  We may get better results with a larger or smaller window.  I did not attempt to adjust the window size but may do some time in the future."
        },
        {
            "cell_type": "markdown",
            "metadata": {},
            "source": "Create a data frame with only records of failure."
        },
        {
            "cell_type": "code",
            "execution_count": 61,
            "metadata": {},
            "outputs": [],
            "source": "df_failure=df.filter(df.FAILURE ==1)"
        },
        {
            "cell_type": "markdown",
            "metadata": {},
            "source": "Limit the fields"
        },
        {
            "cell_type": "code",
            "execution_count": 6,
            "metadata": {},
            "outputs": [],
            "source": "df_failure=df_failure[['DATE','SERIAL_NUMBER','FAILURE']]"
        },
        {
            "cell_type": "markdown",
            "metadata": {},
            "source": "Drop the failure field and rename the date field as the failure date."
        },
        {
            "cell_type": "code",
            "execution_count": 7,
            "metadata": {},
            "outputs": [],
            "source": "df_failure = df_failure.drop(\"FAILURE\")\ndf_failure=df_failure.withColumnRenamed(\"DATE\",\"FAILURE_DATE\")\ndf_failure=df_failure.withColumnRenamed(\"SERIAL_NUMBER\",\"SERIAL_NUMBERX\")"
        },
        {
            "cell_type": "code",
            "execution_count": 8,
            "metadata": {},
            "outputs": [],
            "source": "#df_failure.show(5)"
        },
        {
            "cell_type": "markdown",
            "metadata": {},
            "source": "Ensure you only have one failure per serial number."
        },
        {
            "cell_type": "code",
            "execution_count": 9,
            "metadata": {},
            "outputs": [],
            "source": "from pyspark.sql import Window\nfrom pyspark.sql.functions import rank\nwindow = Window.partitionBy(\"SERIAL_NUMBERX\").orderBy(\"FAILURE_DATE\")\ndf_failure=(df_failure.withColumn('rank', rank().over(window))\n.filter(col('rank') == 1)\n.drop('rank'))"
        },
        {
            "cell_type": "markdown",
            "metadata": {},
            "source": "Left join the list of failures to the original data frame.  The result is a complete list of disks with a failure."
        },
        {
            "cell_type": "markdown",
            "metadata": {},
            "source": "Keep a list of disks with a failure. We will use this later on."
        },
        {
            "cell_type": "code",
            "execution_count": 11,
            "metadata": {},
            "outputs": [],
            "source": "df_failure_list=df_failure[['SERIAL_NUMBERX']]\ndf_failure_list = df_failure_list.withColumn(\"wookie\", lit(1))"
        },
        {
            "cell_type": "code",
            "execution_count": 12,
            "metadata": {},
            "outputs": [],
            "source": "df_failure=df.join(df_failure,(((df.SERIAL_NUMBER) ==  (df_failure.SERIAL_NUMBERX)) ),\"inner\")\ndf_failure = df_failure.drop(\"SERIAL_NUMBERX\")"
        },
        {
            "cell_type": "code",
            "execution_count": 13,
            "metadata": {},
            "outputs": [],
            "source": "#print((df_failure.count(), len(df_failure.columns)))"
        },
        {
            "cell_type": "markdown",
            "metadata": {},
            "source": "Select relevant fields and calculate the difference between the current date and the failure date"
        },
        {
            "cell_type": "code",
            "execution_count": 14,
            "metadata": {},
            "outputs": [],
            "source": "from pyspark.sql.functions import *\ndater=df_failure.select(\n      col(\"SERIAL_NUMBER\"),\n      col(\"DATE\"),\n      col(\"FAILURE_DATE\"),\n      datediff(col(\"FAILURE_DATE\"),col(\"DATE\")).alias(\"datediff\"))"
        },
        {
            "cell_type": "markdown",
            "metadata": {},
            "source": "create a field called \"TARGET\" that is 1 if the date is with 11 days of a failure"
        },
        {
            "cell_type": "code",
            "execution_count": 15,
            "metadata": {},
            "outputs": [],
            "source": "#dater.show(1000)"
        },
        {
            "cell_type": "code",
            "execution_count": 16,
            "metadata": {},
            "outputs": [],
            "source": "from pyspark.sql.functions import when\n\ndater=dater.withColumn(\"TARGET\", when(dater['datediff'] <=10, 1).otherwise(0))\n\n\n#dater.show(1000)"
        },
        {
            "cell_type": "markdown",
            "metadata": {},
            "source": "Rename the data frame."
        },
        {
            "cell_type": "code",
            "execution_count": 17,
            "metadata": {},
            "outputs": [],
            "source": "dater=dater.withColumnRenamed(\"SERIAL_NUMBER\",\"SERIAL_NUMBERX\")\ndater=dater.withColumnRenamed(\"DATE\",\"DATEX\")\ndater=dater.withColumnRenamed(\"FAILURE_DATE\",\"FAILURE_DATEX\")"
        },
        {
            "cell_type": "code",
            "execution_count": 18,
            "metadata": {},
            "outputs": [],
            "source": "#df_failure.show(1)"
        },
        {
            "cell_type": "code",
            "execution_count": 19,
            "metadata": {},
            "outputs": [],
            "source": "df_failure=df_failure.join(dater,(((df_failure.SERIAL_NUMBER) ==  (dater.SERIAL_NUMBERX)) & ((df_failure.DATE)==(dater.DATEX)) & ((df_failure.FAILURE_DATE)==(dater.FAILURE_DATEX))),\"inner\")\n#drop dummy keys\ndf_failure = df_failure.drop(\"SERIAL_NUMBERX\")\ndf_failure = df_failure.drop(\"DATEX\")\ndf_failure = df_failure.drop(\"FAILURE_DATEX\")"
        },
        {
            "cell_type": "code",
            "execution_count": 20,
            "metadata": {},
            "outputs": [],
            "source": "#print((df_failure.count(), len(df_failure.columns)))"
        },
        {
            "cell_type": "code",
            "execution_count": null,
            "metadata": {},
            "outputs": [],
            "source": ""
        },
        {
            "cell_type": "code",
            "execution_count": null,
            "metadata": {},
            "outputs": [],
            "source": ""
        },
        {
            "cell_type": "markdown",
            "metadata": {},
            "source": "Join the list of failure disks to the original data frame, keep only disks that do not have a failure."
        },
        {
            "cell_type": "code",
            "execution_count": 21,
            "metadata": {},
            "outputs": [],
            "source": "#join the list of failure directories to the original data frame with a left join\ndf_nonfailure=df.join(df_failure_list,(((df.SERIAL_NUMBER) ==  (df_failure_list.SERIAL_NUMBERX)) ),\"left\")\n#drop dummy key\ndf_nonfailure = df_nonfailure.drop(\"SERIAL_NUMBERX\")\n#assign dummy variable to indicate disk did not fail in 2020\ndf_nonfailure=df_nonfailure.na.fill(0,[\"wookie\"]) \n#select only disks that failed\ndf_nonfailure=df_nonfailure.filter(df_nonfailure.wookie ==0)\n#assign the predicted variable of 0\ndf_nonfailure = df_nonfailure.withColumn(\"TARGET\", lit(0))\n#clean things up\ndf_nonfailure = df_nonfailure.drop(\"wookie\")\n\n"
        },
        {
            "cell_type": "markdown",
            "metadata": {},
            "source": "Create a failure date way in the future for the nonfailure data"
        },
        {
            "cell_type": "code",
            "execution_count": 22,
            "metadata": {},
            "outputs": [],
            "source": "df_nonfailure = df_nonfailure.withColumn(\"FAILURE_DATE\", expr(\"make_date(2099, 12, 12)\"))"
        },
        {
            "cell_type": "code",
            "execution_count": 23,
            "metadata": {},
            "outputs": [],
            "source": "#df_nonfailure.show()"
        },
        {
            "cell_type": "code",
            "execution_count": 24,
            "metadata": {},
            "outputs": [],
            "source": "#print((df_nonfailure.count(), len(df_nonfailure.columns)))"
        },
        {
            "cell_type": "code",
            "execution_count": 25,
            "metadata": {},
            "outputs": [],
            "source": "\ndf_failure = df_failure.drop(\"datediff\")"
        },
        {
            "cell_type": "code",
            "execution_count": 26,
            "metadata": {},
            "outputs": [],
            "source": "#df_failure.show(1)"
        },
        {
            "cell_type": "code",
            "execution_count": 27,
            "metadata": {},
            "outputs": [],
            "source": "df = df_failure.unionByName(df_nonfailure)"
        },
        {
            "cell_type": "code",
            "execution_count": 28,
            "metadata": {},
            "outputs": [
                {
                    "name": "stdout",
                    "output_type": "stream",
                    "text": "+------+------+\n|TARGET| count|\n+------+------+\n|     1| 11000|\n|     0|181789|\n+------+------+\n\n"
                }
            ],
            "source": "z=df_failure.groupBy(\"TARGET\").count()\nz.show()"
        },
        {
            "cell_type": "code",
            "execution_count": 29,
            "metadata": {},
            "outputs": [],
            "source": "#df.show(1)"
        },
        {
            "cell_type": "markdown",
            "metadata": {},
            "source": "### 4.0 Create training, testing and validation groups <a id=\"40\"></a>"
        },
        {
            "cell_type": "markdown",
            "metadata": {},
            "source": "Next, we will need to create a Training, Testing and Validation group for our modeling process.  In this use case and in most equipment failure problems, we can not randomly assign records to each group.  Because the data is a cross-sectional time-series, we must define the Training, Testing and Validation groups based on serial number.  I wrote about the reasons for this extensively in another article. For more information, please the following: \n\nhttps://medium.com/towards-data-science/assigning-panel-data-to-training-testing-and-validation-groups-for-machine-learning-models-7017350ab86e"
        },
        {
            "cell_type": "markdown",
            "metadata": {},
            "source": "Create a unique list of serial numbers"
        },
        {
            "cell_type": "code",
            "execution_count": 30,
            "metadata": {},
            "outputs": [],
            "source": "df_sample=df.select([c for c in df.columns if c in ['SERIAL_NUMBER']])\ndf_sample=df_sample.dropDuplicates(['SERIAL_NUMBER'])\ndf_sample=df_sample.withColumn('wookie', rand())\n"
        },
        {
            "cell_type": "markdown",
            "metadata": {},
            "source": "Randomly assign the serial numbers to either the Training, Testing or Validation group."
        },
        {
            "cell_type": "code",
            "execution_count": 31,
            "metadata": {},
            "outputs": [],
            "source": "df_sample = df_sample.withColumn(\"GROUP\", when(df_sample.wookie <= 0.33333333,\"TRAINING\")\n                                 .when(df_sample.wookie >=0.6666666667,\"TESTING\")\n                                 .otherwise(\"VALIDATION\"))"
        },
        {
            "cell_type": "markdown",
            "metadata": {},
            "source": "Append the group to the original data frame"
        },
        {
            "cell_type": "code",
            "execution_count": 32,
            "metadata": {},
            "outputs": [],
            "source": "df_sample = df_sample.withColumnRenamed(\"SERIAL_NUMBER\",\"DOODEE\")\ndf_sample = df_sample.drop(\"wookie\")\n\n\ndf=df.join(df_sample,(((df_sample.DOODEE) ==  (df.SERIAL_NUMBER))),\"inner\")\ndf = df.drop(\"DOODEE\")"
        },
        {
            "cell_type": "markdown",
            "metadata": {},
            "source": "Check the data.  \n\nWe have 11,000 observations in the failure window."
        },
        {
            "cell_type": "code",
            "execution_count": 33,
            "metadata": {},
            "outputs": [
                {
                    "name": "stdout",
                    "output_type": "stream",
                    "text": "+------+------+\n|TARGET| count|\n+------+------+\n|     1| 11000|\n|     0|534127|\n+------+------+\n\n"
                }
            ],
            "source": "z=df.groupBy(\"TARGET\").count()\nz.show()"
        },
        {
            "cell_type": "markdown",
            "metadata": {},
            "source": "1000 Failures"
        },
        {
            "cell_type": "code",
            "execution_count": 34,
            "metadata": {},
            "outputs": [
                {
                    "name": "stdout",
                    "output_type": "stream",
                    "text": "+-------+------+\n|FAILURE| count|\n+-------+------+\n|    0.0|544127|\n|    1.0|  1000|\n+-------+------+\n\n"
                }
            ],
            "source": "z=df.groupBy(\"FAILURE\").count()\nz.show()"
        },
        {
            "cell_type": "markdown",
            "metadata": {},
            "source": "An appropriate allocation among the training, testing and validation groups."
        },
        {
            "cell_type": "code",
            "execution_count": 35,
            "metadata": {},
            "outputs": [
                {
                    "name": "stdout",
                    "output_type": "stream",
                    "text": "+----------+------+\n|     GROUP| count|\n+----------+------+\n|   TESTING|177967|\n|VALIDATION|178654|\n|  TRAINING|188506|\n+----------+------+\n\n"
                }
            ],
            "source": "z=df.groupBy(\"GROUP\").count()\nz.show()"
        },
        {
            "cell_type": "markdown",
            "metadata": {},
            "source": "### 5.0 Prepare the data for the model <a id=\"50\"></a>"
        },
        {
            "cell_type": "markdown",
            "metadata": {},
            "source": "Reformat features"
        },
        {
            "cell_type": "code",
            "execution_count": 36,
            "metadata": {},
            "outputs": [],
            "source": "from pyspark.sql.types import *\ndf = df.withColumn(\"MODEL_FAIL_CNT\", df[\"MODEL_FAIL_CNT\"].cast(DecimalType(12,6)))\ndf = df.withColumn(\"MODEL_FAIL_RATE\", df[\"MODEL_FAIL_RATE\"].cast(DecimalType(12,6)))\n"
        },
        {
            "cell_type": "code",
            "execution_count": 37,
            "metadata": {},
            "outputs": [],
            "source": "df = df.withColumn(\"MODEL_FAIL_TOTAL\", df[\"MODEL_FAIL_TOTAL\"].cast(DecimalType(12,6)))\ndf = df.withColumn(\"MANU_FAIL_RATE\", df[\"MANU_FAIL_RATE\"].cast(DecimalType(12,6)))\ndf = df.withColumn(\"MANU_FAIL_CNT\", df[\"MANU_FAIL_CNT\"].cast(DecimalType(12,6)))\ndf = df.withColumn(\"MANU_FAIL_TOTAL\", df[\"MANU_FAIL_TOTAL\"].cast(DecimalType(12,6)))\ndf = df.withColumn(\"REALLOCATED_SECTOR_COUNT_N_MOD\", df[\"REALLOCATED_SECTOR_COUNT_N_MOD\"].cast(DecimalType(12,6)))\ndf = df.withColumn(\"REPORTED_UNCORRECTABLE_ERRORS_N_MOD\", df[\"REPORTED_UNCORRECTABLE_ERRORS_N_MOD\"].cast(DecimalType(12,6)))\ndf = df.withColumn(\"COMMAND_TIMEOUT_N_MOD\", df[\"COMMAND_TIMEOUT_N_MOD\"].cast(DecimalType(12,6)))\ndf = df.withColumn(\"CURRENT_PENDING_SECTOR_COUNT_N_MOD\", df[\"CURRENT_PENDING_SECTOR_COUNT_N_MOD\"].cast(DecimalType(12,6)))\ndf = df.withColumn(\"POWER_ON_HOURS_N_MOD\", df[\"POWER_ON_HOURS_N_MOD\"].cast(DecimalType(12,6)))\ndf = df.withColumn(\"REALLOCATED_SECTOR_COUNT_R_MOD\", df[\"REALLOCATED_SECTOR_COUNT_R_MOD\"].cast(DecimalType(12,6)))\ndf = df.withColumn(\"REPORTED_UNCORRECTABLE_ERRORS_R_MOD\", df[\"REPORTED_UNCORRECTABLE_ERRORS_R_MOD\"].cast(DecimalType(12,6)))\ndf = df.withColumn(\"COMMAND_TIMEOUT_R_MOD\", df[\"COMMAND_TIMEOUT_R_MOD\"].cast(DecimalType(12,6)))\ndf = df.withColumn(\"CURRENT_PENDING_SECTOR_COUNT_R_MOD\", df[\"CURRENT_PENDING_SECTOR_COUNT_R_MOD\"].cast(DecimalType(12,6)))\ndf = df.withColumn(\"POWER_ON_HOURS_R_MOD\", df[\"POWER_ON_HOURS_R_MOD\"].cast(DecimalType(12,6)))\ndf = df.withColumn(\"REALLOCATED_SECTOR_COUNT_N_MAN\", df[\"REALLOCATED_SECTOR_COUNT_N_MAN\"].cast(DecimalType(12,6)))\ndf = df.withColumn(\"REPORTED_UNCORRECTABLE_ERRORS_N_MAN\", df[\"REPORTED_UNCORRECTABLE_ERRORS_N_MAN\"].cast(DecimalType(12,6)))\ndf = df.withColumn(\"COMMAND_TIMEOUT_N_MAN\", df[\"COMMAND_TIMEOUT_N_MAN\"].cast(DecimalType(12,6)))\ndf = df.withColumn(\"CURRENT_PENDING_SECTOR_COUNT_N_MAN\", df[\"CURRENT_PENDING_SECTOR_COUNT_N_MAN\"].cast(DecimalType(12,6)))\ndf = df.withColumn(\"POWER_ON_HOURS_N_MAN\", df[\"POWER_ON_HOURS_N_MAN\"].cast(DecimalType(12,6)))\ndf = df.withColumn(\"REALLOCATED_SECTOR_COUNT_R_MAN\", df[\"REALLOCATED_SECTOR_COUNT_R_MAN\"].cast(DecimalType(12,6)))\ndf = df.withColumn(\"REPORTED_UNCORRECTABLE_ERRORS_R_MAN\", df[\"REPORTED_UNCORRECTABLE_ERRORS_R_MAN\"].cast(DecimalType(12,6)))\ndf = df.withColumn(\"COMMAND_TIMEOUT_R_MAN\", df[\"COMMAND_TIMEOUT_R_MAN\"].cast(DecimalType(12,6)))\ndf = df.withColumn(\"CURRENT_PENDING_SECTOR_COUNT_R_MAN\", df[\"CURRENT_PENDING_SECTOR_COUNT_R_MAN\"].cast(DecimalType(12,6)))\ndf = df.withColumn(\"POWER_ON_HOURS_R_MAN\", df[\"POWER_ON_HOURS_R_MAN\"].cast(DecimalType(12,6)))"
        },
        {
            "cell_type": "markdown",
            "metadata": {},
            "source": "Fill missings with -99.  Note this will work because we are using a non-parametric model."
        },
        {
            "cell_type": "code",
            "execution_count": 38,
            "metadata": {},
            "outputs": [],
            "source": "df=df.na.fill(value=-99)"
        },
        {
            "cell_type": "markdown",
            "metadata": {},
            "source": "Define three data sets based on allocation to Training, Testing or Validation group."
        },
        {
            "cell_type": "code",
            "execution_count": 39,
            "metadata": {},
            "outputs": [],
            "source": "df_training=df.filter(df.GROUP =='TRAINING')\ndf_testing=df.filter(df.GROUP =='TESTING')\ndf_validation=df.filter(df.GROUP =='VALIDATION')"
        },
        {
            "cell_type": "markdown",
            "metadata": {},
            "source": "Drop features that are non-predictive, text, or deriviatives of the predicted variable."
        },
        {
            "cell_type": "code",
            "execution_count": 40,
            "metadata": {},
            "outputs": [],
            "source": "builder=df_training\nbuilder = builder.drop('DATE','SERIAL_NUMBER','MODEL','FAILURE','ROW','MANUFACTURER','GROUP','FAILURE_DATE','MODELM')"
        },
        {
            "cell_type": "markdown",
            "metadata": {},
            "source": "Define the feature names."
        },
        {
            "cell_type": "code",
            "execution_count": 41,
            "metadata": {},
            "outputs": [],
            "source": "feature_names = builder.drop('TARGET')"
        },
        {
            "cell_type": "markdown",
            "metadata": {},
            "source": "Prep the data for modeling and scoring on the validation and testing data sets."
        },
        {
            "cell_type": "code",
            "execution_count": 42,
            "metadata": {},
            "outputs": [],
            "source": "features = feature_names.columns\nva_train = VectorAssembler(inputCols = features, outputCol='features')"
        },
        {
            "cell_type": "code",
            "execution_count": 43,
            "metadata": {},
            "outputs": [],
            "source": "va_test=VectorAssembler(inputCols = features, outputCol='features')\n\nva_valid=VectorAssembler(inputCols = features, outputCol='features')"
        },
        {
            "cell_type": "code",
            "execution_count": 44,
            "metadata": {},
            "outputs": [],
            "source": "df_training = va_train.transform(df_training)\ndf_validation=va_valid.transform(df_validation)\ndf_testing=va_test.transform(df_testing)\nbuilder = va_train.transform(builder)\n\n"
        },
        {
            "cell_type": "code",
            "execution_count": 45,
            "metadata": {},
            "outputs": [],
            "source": "builder = builder.select(['features', 'TARGET'])\n"
        },
        {
            "cell_type": "markdown",
            "metadata": {},
            "source": "### 6.0 Build the model <a id=\"60\"></a>"
        },
        {
            "cell_type": "code",
            "execution_count": 46,
            "metadata": {},
            "outputs": [],
            "source": "gbtc = GBTClassifier(labelCol=\"TARGET\", maxIter=20)\ngbtc = gbtc.fit(builder)\n"
        },
        {
            "cell_type": "markdown",
            "metadata": {},
            "source": "### 7.0 Evaluate model <a id=\"70\"></a>"
        },
        {
            "cell_type": "markdown",
            "metadata": {},
            "source": "Evaluate the model with non-time-dependent stats like accuracy and F1"
        },
        {
            "cell_type": "code",
            "execution_count": 47,
            "metadata": {},
            "outputs": [],
            "source": "pred_tr = gbtc.transform(df_training)\npred_v = gbtc.transform(df_validation)\npred_te = gbtc.transform(df_testing)\n"
        },
        {
            "cell_type": "code",
            "execution_count": null,
            "metadata": {},
            "outputs": [],
            "source": ""
        },
        {
            "cell_type": "code",
            "execution_count": 48,
            "metadata": {},
            "outputs": [
                {
                    "name": "stdout",
                    "output_type": "stream",
                    "text": "Training Accuracy = 0.97877\n"
                }
            ],
            "source": "# Select (prediction, true label) and compute test error\nevaluator = MulticlassClassificationEvaluator(labelCol=\"TARGET\",predictionCol=\"prediction\", metricName=(\"accuracy\"))\naccuracy = evaluator.evaluate(pred_tr)\nprint(\"Training Accuracy = %g\" % (accuracy))"
        },
        {
            "cell_type": "code",
            "execution_count": 49,
            "metadata": {},
            "outputs": [
                {
                    "name": "stdout",
                    "output_type": "stream",
                    "text": "Testing Accuracy = 0.980488\n"
                }
            ],
            "source": "# Select (prediction, true label) and compute test error\nevaluator = MulticlassClassificationEvaluator(labelCol=\"TARGET\",predictionCol=\"prediction\", metricName=(\"accuracy\"))\naccuracy = evaluator.evaluate(pred_te)\nprint(\"Testing Accuracy = %g\" % (accuracy)) "
        },
        {
            "cell_type": "code",
            "execution_count": 50,
            "metadata": {},
            "outputs": [
                {
                    "name": "stdout",
                    "output_type": "stream",
                    "text": "Validation Accuracy = 0.978154\n"
                }
            ],
            "source": "# Select (prediction, true label) and compute test error\nevaluator = MulticlassClassificationEvaluator(labelCol=\"TARGET\",predictionCol=\"prediction\", metricName=(\"accuracy\"))\naccuracy = evaluator.evaluate(pred_v)\nprint(\"Validation Accuracy = %g\" % (accuracy))"
        },
        {
            "cell_type": "code",
            "execution_count": 51,
            "metadata": {},
            "outputs": [
                {
                    "name": "stdout",
                    "output_type": "stream",
                    "text": "Training F1 = 0.974134\nTesting F1 = 0.97303\nValidation F1 = 0.971582\n"
                }
            ],
            "source": "# Select (prediction, true label) and compute test error\nevaluator = MulticlassClassificationEvaluator(labelCol=\"TARGET\",predictionCol=\"prediction\", metricName=(\"f1\"))\nf1v = evaluator.evaluate(pred_v)\n\n# Select (prediction, true label) and compute test error\nevaluator = MulticlassClassificationEvaluator(labelCol=\"TARGET\",predictionCol=\"prediction\", metricName=(\"f1\"))\nf1te = evaluator.evaluate(pred_te)\n\n\n\n# Select (prediction, true label) and compute test error\nevaluator = MulticlassClassificationEvaluator(labelCol=\"TARGET\",predictionCol=\"prediction\", metricName=(\"f1\"))\nf1tr = evaluator.evaluate(pred_tr)\n\n\nprint( \"Training F1 = %g\" % (f1tr))\nprint( \"Testing F1 = %g\" % (f1te))\nprint( \"Validation F1 = %g\" % (f1v))"
        },
        {
            "cell_type": "markdown",
            "metadata": {},
            "source": "The results look very promising, but we definitely have more evaluation to do.  "
        },
        {
            "cell_type": "markdown",
            "metadata": {},
            "source": "### 8.0 Format the scored data for further evaluation <a id=\"80\"></a>"
        },
        {
            "cell_type": "markdown",
            "metadata": {},
            "source": "Append the scored data into one dataframe"
        },
        {
            "cell_type": "code",
            "execution_count": 66,
            "metadata": {},
            "outputs": [],
            "source": "pred = pred_tr.union(pred_v)\npred =pred.union(pred_te)"
        },
        {
            "cell_type": "markdown",
            "metadata": {},
            "source": "Select relevant fields"
        },
        {
            "cell_type": "code",
            "execution_count": 67,
            "metadata": {},
            "outputs": [
                {
                    "name": "stdout",
                    "output_type": "stream",
                    "text": "+----------+-------------+-----------+-----------------+-------+--------------------------+-------------------------------+-----------------+------------------------------+----------------+--------------------------+-------------------------------+-----------------+------------------------------+----------------+------------+---+----------------------------+---------------------------------+-------------------+--------------------------------+------------------+----------------------------+---------------------------------+-------------------+--------------------------------+------------------+----------------------------+---------------------------------+-------------------+--------------------------------+------------------+----------------------------+---------------------------------+-------------------+--------------------------------+------------------+----------------------------+---------------------------------+-------------------+--------------------------------+------------------+----------------------------+---------------------------------+-------------------+--------------------------------+------------------+----------------------------+---------------------------------+-------------------+--------------------------------+------------------+----------------------------+---------------------------------+-------------------+--------------------------------+------------------+----------------------------+---------------------------------+-------------------+--------------------------------+------------------+----------------------------+---------------------------------+-------------------+--------------------------------+------------------+----------------------------+---------------------------------+-------------------+--------------------------------+------------------+----------------------------+---------------------------------+-------------------+--------------------------------+------------------+----------------------------+---------------------------------+-------------------+--------------------------------+------------------+----------------------------+---------------------------------+-------------------+--------------------------------+------------------+--------------------+--------------------+--------------------+---------------------+--------------------+----------------------+---------------------+---------------------+-----------------------+-----------------------+--------------------+--------------------+--------------------+---------------------+--------------------+----------------------+---------------------+---------------------+-----------------------+-----------------------+------------------------------+------------------------------+------------------------------+-------------------------------+------------------------------+--------------------------------+-------------------------------+-------------------------------+---------------------------------+---------------------------------+-----------------------------------+-----------------------------------+-----------------------------------+------------------------------------+-----------------------------------+-------------------------------------+------------------------------------+------------------------------------+--------------------------------------+--------------------------------------+------------------------------+------------------------------+------------------------------+-------------------------------+------------------------------+--------------------------------+-------------------------------+-------------------------------+---------------------------------+---------------------------------+-----------------------------------+-----------------------------------+-----------------------------------+------------------------------------+-----------------------------------+-------------------------------------+------------------------------------+------------------------------------+--------------------------------------+--------------------------------------+---------------------+---------------------+---------------------+----------------------+---------------------+-----------------------+----------------------+----------------------+------------------------+------------------------+---------------------+---------------------+---------------------+----------------------+---------------------+-----------------------+----------------------+----------------------+------------------------+------------------------+----------------------------------+----------------------------------+----------------------------------+-----------------------------------+----------------------------------+------------------------------------+-----------------------------------+-----------------------------------+-------------------------------------+-------------------------------------+----------------------------------+----------------------------------+----------------------------------+-----------------------------------+----------------------------------+------------------------------------+-----------------------------------+-----------------------------------+-------------------------------------+-------------------------------------+---------------+--------------+----------------+--------------+-------------+---------------+------------------------------+-----------------------------------+---------------------+----------------------------------+--------------------+------------------------------+-----------------------------------+---------------------+----------------------------------+--------------------+------------------------------+-----------------------------------+---------------------+----------------------------------+--------------------+------------------------------+-----------------------------------+---------------------+----------------------------------+--------------------+----------------------------------+---------------------------------------+-----------------------------+--------------------------------------+------------------------+----------------------------------+---------------------------------------+-------------------------+--------------------------------------+------------------------+----------------------------------+---------------------------------------+-------------------------+--------------------------------------+------------------------+----------------------------------+---------------------------------------+-------------------------+--------------------------------------+------------------------+------------+------+--------+--------------------+--------------------+--------------------+----------+\n|      DATE|SERIAL_NUMBER|      MODEL|   CAPACITY_BYTES|FAILURE|REALLOCATED_SECTOR_COUNT_N|REPORTED_UNCORRECTABLE_ERRORS_N|COMMAND_TIMEOUT_N|CURRENT_PENDING_SECTOR_COUNT_N|POWER_ON_HOURS_N|REALLOCATED_SECTOR_COUNT_R|REPORTED_UNCORRECTABLE_ERRORS_R|COMMAND_TIMEOUT_R|CURRENT_PENDING_SECTOR_COUNT_R|POWER_ON_HOURS_R|MANUFACTURER|ROW|REALLOCATED_SECTOR_COUNT_N_7|REPORTED_UNCORRECTABLE_ERRORS_N_7|COMMAND_TIMEOUT_N_7|CURRENT_PENDING_SECTOR_COUNT_N_7|POWER_ON_HOURS_N_7|REALLOCATED_SECTOR_COUNT_R_7|REPORTED_UNCORRECTABLE_ERRORS_R_7|COMMAND_TIMEOUT_R_7|CURRENT_PENDING_SECTOR_COUNT_R_7|POWER_ON_HOURS_R_7|REALLOCATED_SECTOR_COUNT_N_6|REPORTED_UNCORRECTABLE_ERRORS_N_6|COMMAND_TIMEOUT_N_6|CURRENT_PENDING_SECTOR_COUNT_N_6|POWER_ON_HOURS_N_6|REALLOCATED_SECTOR_COUNT_R_6|REPORTED_UNCORRECTABLE_ERRORS_R_6|COMMAND_TIMEOUT_R_6|CURRENT_PENDING_SECTOR_COUNT_R_6|POWER_ON_HOURS_R_6|REALLOCATED_SECTOR_COUNT_N_5|REPORTED_UNCORRECTABLE_ERRORS_N_5|COMMAND_TIMEOUT_N_5|CURRENT_PENDING_SECTOR_COUNT_N_5|POWER_ON_HOURS_N_5|REALLOCATED_SECTOR_COUNT_R_5|REPORTED_UNCORRECTABLE_ERRORS_R_5|COMMAND_TIMEOUT_R_5|CURRENT_PENDING_SECTOR_COUNT_R_5|POWER_ON_HOURS_R_5|REALLOCATED_SECTOR_COUNT_N_4|REPORTED_UNCORRECTABLE_ERRORS_N_4|COMMAND_TIMEOUT_N_4|CURRENT_PENDING_SECTOR_COUNT_N_4|POWER_ON_HOURS_N_4|REALLOCATED_SECTOR_COUNT_R_4|REPORTED_UNCORRECTABLE_ERRORS_R_4|COMMAND_TIMEOUT_R_4|CURRENT_PENDING_SECTOR_COUNT_R_4|POWER_ON_HOURS_R_4|REALLOCATED_SECTOR_COUNT_N_3|REPORTED_UNCORRECTABLE_ERRORS_N_3|COMMAND_TIMEOUT_N_3|CURRENT_PENDING_SECTOR_COUNT_N_3|POWER_ON_HOURS_N_3|REALLOCATED_SECTOR_COUNT_R_3|REPORTED_UNCORRECTABLE_ERRORS_R_3|COMMAND_TIMEOUT_R_3|CURRENT_PENDING_SECTOR_COUNT_R_3|POWER_ON_HOURS_R_3|REALLOCATED_SECTOR_COUNT_N_2|REPORTED_UNCORRECTABLE_ERRORS_N_2|COMMAND_TIMEOUT_N_2|CURRENT_PENDING_SECTOR_COUNT_N_2|POWER_ON_HOURS_N_2|REALLOCATED_SECTOR_COUNT_R_2|REPORTED_UNCORRECTABLE_ERRORS_R_2|COMMAND_TIMEOUT_R_2|CURRENT_PENDING_SECTOR_COUNT_R_2|POWER_ON_HOURS_R_2|REALLOCATED_SECTOR_COUNT_N_1|REPORTED_UNCORRECTABLE_ERRORS_N_1|COMMAND_TIMEOUT_N_1|CURRENT_PENDING_SECTOR_COUNT_N_1|POWER_ON_HOURS_N_1|REALLOCATED_SECTOR_COUNT_R_1|REPORTED_UNCORRECTABLE_ERRORS_R_1|COMMAND_TIMEOUT_R_1|CURRENT_PENDING_SECTOR_COUNT_R_1|POWER_ON_HOURS_R_1|POWER_ON_HOURS_R_MAX|POWER_ON_HOURS_R_MIN|POWER_ON_HOURS_R_SUM|POWER_ON_HOURS_R_MEAN|POWER_ON_HOURS_R_VAR|POWER_ON_HOURS_R_DELTA|POWER_ON_HOURS_R_VARX|POWER_ON_HOURS_R_VARN|POWER_ON_HOURS_R_DELTAX|POWER_ON_HOURS_R_DELTAN|POWER_ON_HOURS_N_MAX|POWER_ON_HOURS_N_MIN|POWER_ON_HOURS_N_SUM|POWER_ON_HOURS_N_MEAN|POWER_ON_HOURS_N_VAR|POWER_ON_HOURS_N_DELTA|POWER_ON_HOURS_N_VARX|POWER_ON_HOURS_N_VARN|POWER_ON_HOURS_N_DELTAX|POWER_ON_HOURS_N_DELTAN|REALLOCATED_SECTOR_COUNT_R_MAX|REALLOCATED_SECTOR_COUNT_R_MIN|REALLOCATED_SECTOR_COUNT_R_SUM|REALLOCATED_SECTOR_COUNT_R_MEAN|REALLOCATED_SECTOR_COUNT_R_VAR|REALLOCATED_SECTOR_COUNT_R_DELTA|REALLOCATED_SECTOR_COUNT_R_VARX|REALLOCATED_SECTOR_COUNT_R_VARN|REALLOCATED_SECTOR_COUNT_R_DELTAX|REALLOCATED_SECTOR_COUNT_R_DELTAN|REPORTED_UNCORRECTABLE_ERRORS_N_MAX|REPORTED_UNCORRECTABLE_ERRORS_N_MIN|REPORTED_UNCORRECTABLE_ERRORS_N_SUM|REPORTED_UNCORRECTABLE_ERRORS_N_MEAN|REPORTED_UNCORRECTABLE_ERRORS_N_VAR|REPORTED_UNCORRECTABLE_ERRORS_N_DELTA|REPORTED_UNCORRECTABLE_ERRORS_N_VARX|REPORTED_UNCORRECTABLE_ERRORS_N_VARN|REPORTED_UNCORRECTABLE_ERRORS_N_DELTAX|REPORTED_UNCORRECTABLE_ERRORS_N_DELTAN|REALLOCATED_SECTOR_COUNT_N_MAX|REALLOCATED_SECTOR_COUNT_N_MIN|REALLOCATED_SECTOR_COUNT_N_SUM|REALLOCATED_SECTOR_COUNT_N_MEAN|REALLOCATED_SECTOR_COUNT_N_VAR|REALLOCATED_SECTOR_COUNT_N_DELTA|REALLOCATED_SECTOR_COUNT_N_VARX|REALLOCATED_SECTOR_COUNT_N_VARN|REALLOCATED_SECTOR_COUNT_N_DELTAX|REALLOCATED_SECTOR_COUNT_N_DELTAN|REPORTED_UNCORRECTABLE_ERRORS_R_MAX|REPORTED_UNCORRECTABLE_ERRORS_R_MIN|REPORTED_UNCORRECTABLE_ERRORS_R_SUM|REPORTED_UNCORRECTABLE_ERRORS_R_MEAN|REPORTED_UNCORRECTABLE_ERRORS_R_VAR|REPORTED_UNCORRECTABLE_ERRORS_R_DELTA|REPORTED_UNCORRECTABLE_ERRORS_R_VARX|REPORTED_UNCORRECTABLE_ERRORS_R_VARN|REPORTED_UNCORRECTABLE_ERRORS_R_DELTAX|REPORTED_UNCORRECTABLE_ERRORS_R_DELTAN|COMMAND_TIMEOUT_R_MAX|COMMAND_TIMEOUT_R_MIN|COMMAND_TIMEOUT_R_SUM|COMMAND_TIMEOUT_R_MEAN|COMMAND_TIMEOUT_R_VAR|COMMAND_TIMEOUT_R_DELTA|COMMAND_TIMEOUT_R_VARX|COMMAND_TIMEOUT_R_VARN|COMMAND_TIMEOUT_R_DELTAX|COMMAND_TIMEOUT_R_DELTAN|COMMAND_TIMEOUT_N_MAX|COMMAND_TIMEOUT_N_MIN|COMMAND_TIMEOUT_N_SUM|COMMAND_TIMEOUT_N_MEAN|COMMAND_TIMEOUT_N_VAR|COMMAND_TIMEOUT_N_DELTA|COMMAND_TIMEOUT_N_VARX|COMMAND_TIMEOUT_N_VARN|COMMAND_TIMEOUT_N_DELTAX|COMMAND_TIMEOUT_N_DELTAN|CURRENT_PENDING_SECTOR_COUNT_R_MAX|CURRENT_PENDING_SECTOR_COUNT_R_MIN|CURRENT_PENDING_SECTOR_COUNT_R_SUM|CURRENT_PENDING_SECTOR_COUNT_R_MEAN|CURRENT_PENDING_SECTOR_COUNT_R_VAR|CURRENT_PENDING_SECTOR_COUNT_R_DELTA|CURRENT_PENDING_SECTOR_COUNT_R_VARX|CURRENT_PENDING_SECTOR_COUNT_R_VARN|CURRENT_PENDING_SECTOR_COUNT_R_DELTAX|CURRENT_PENDING_SECTOR_COUNT_R_DELTAN|CURRENT_PENDING_SECTOR_COUNT_N_MAX|CURRENT_PENDING_SECTOR_COUNT_N_MIN|CURRENT_PENDING_SECTOR_COUNT_N_SUM|CURRENT_PENDING_SECTOR_COUNT_N_MEAN|CURRENT_PENDING_SECTOR_COUNT_N_VAR|CURRENT_PENDING_SECTOR_COUNT_N_DELTA|CURRENT_PENDING_SECTOR_COUNT_N_VARX|CURRENT_PENDING_SECTOR_COUNT_N_VARN|CURRENT_PENDING_SECTOR_COUNT_N_DELTAX|CURRENT_PENDING_SECTOR_COUNT_N_DELTAN|MODEL_FAIL_RATE|MODEL_FAIL_CNT|MODEL_FAIL_TOTAL|MANU_FAIL_RATE|MANU_FAIL_CNT|MANU_FAIL_TOTAL|REALLOCATED_SECTOR_COUNT_N_MOD|REPORTED_UNCORRECTABLE_ERRORS_N_MOD|COMMAND_TIMEOUT_N_MOD|CURRENT_PENDING_SECTOR_COUNT_N_MOD|POWER_ON_HOURS_N_MOD|REALLOCATED_SECTOR_COUNT_R_MOD|REPORTED_UNCORRECTABLE_ERRORS_R_MOD|COMMAND_TIMEOUT_R_MOD|CURRENT_PENDING_SECTOR_COUNT_R_MOD|POWER_ON_HOURS_R_MOD|REALLOCATED_SECTOR_COUNT_N_MAN|REPORTED_UNCORRECTABLE_ERRORS_N_MAN|COMMAND_TIMEOUT_N_MAN|CURRENT_PENDING_SECTOR_COUNT_N_MAN|POWER_ON_HOURS_N_MAN|REALLOCATED_SECTOR_COUNT_R_MAN|REPORTED_UNCORRECTABLE_ERRORS_R_MAN|COMMAND_TIMEOUT_R_MAN|CURRENT_PENDING_SECTOR_COUNT_R_MAN|POWER_ON_HOURS_R_MAN|REALLOCATED_SECTOR_COUNT_N_MOD_IDX|REPORTED_UNCORRECTABLE_ERRORS_N_MOD_IDX|COMMAND_TIMEOUT_N_MOD_MOD_IDX|CURRENT_PENDING_SECTOR_COUNT_N_MOD_IDX|POWER_ON_HOURS_N_MOD_IDX|REALLOCATED_SECTOR_COUNT_R_MOD_IDX|REPORTED_UNCORRECTABLE_ERRORS_R_MOD_IDX|COMMAND_TIMEOUT_R_MOD_IDX|CURRENT_PENDING_SECTOR_COUNT_R_MOD_IDX|POWER_ON_HOURS_R_MOD_IDX|REALLOCATED_SECTOR_COUNT_N_MAN_IDX|REPORTED_UNCORRECTABLE_ERRORS_N_MAN_IDX|COMMAND_TIMEOUT_N_MAN_IDX|CURRENT_PENDING_SECTOR_COUNT_N_MAN_IDX|POWER_ON_HOURS_N_MAN_IDX|REALLOCATED_SECTOR_COUNT_R_MAN_IDX|REPORTED_UNCORRECTABLE_ERRORS_R_MAN_IDX|COMMAND_TIMEOUT_R_MAN_IDX|CURRENT_PENDING_SECTOR_COUNT_R_MAN_IDX|POWER_ON_HOURS_R_MAN_IDX|FAILURE_DATE|TARGET|   GROUP|            features|       rawPrediction|         probability|prediction|\n+----------+-------------+-----------+-----------------+-------+--------------------------+-------------------------------+-----------------+------------------------------+----------------+--------------------------+-------------------------------+-----------------+------------------------------+----------------+------------+---+----------------------------+---------------------------------+-------------------+--------------------------------+------------------+----------------------------+---------------------------------+-------------------+--------------------------------+------------------+----------------------------+---------------------------------+-------------------+--------------------------------+------------------+----------------------------+---------------------------------+-------------------+--------------------------------+------------------+----------------------------+---------------------------------+-------------------+--------------------------------+------------------+----------------------------+---------------------------------+-------------------+--------------------------------+------------------+----------------------------+---------------------------------+-------------------+--------------------------------+------------------+----------------------------+---------------------------------+-------------------+--------------------------------+------------------+----------------------------+---------------------------------+-------------------+--------------------------------+------------------+----------------------------+---------------------------------+-------------------+--------------------------------+------------------+----------------------------+---------------------------------+-------------------+--------------------------------+------------------+----------------------------+---------------------------------+-------------------+--------------------------------+------------------+----------------------------+---------------------------------+-------------------+--------------------------------+------------------+----------------------------+---------------------------------+-------------------+--------------------------------+------------------+--------------------+--------------------+--------------------+---------------------+--------------------+----------------------+---------------------+---------------------+-----------------------+-----------------------+--------------------+--------------------+--------------------+---------------------+--------------------+----------------------+---------------------+---------------------+-----------------------+-----------------------+------------------------------+------------------------------+------------------------------+-------------------------------+------------------------------+--------------------------------+-------------------------------+-------------------------------+---------------------------------+---------------------------------+-----------------------------------+-----------------------------------+-----------------------------------+------------------------------------+-----------------------------------+-------------------------------------+------------------------------------+------------------------------------+--------------------------------------+--------------------------------------+------------------------------+------------------------------+------------------------------+-------------------------------+------------------------------+--------------------------------+-------------------------------+-------------------------------+---------------------------------+---------------------------------+-----------------------------------+-----------------------------------+-----------------------------------+------------------------------------+-----------------------------------+-------------------------------------+------------------------------------+------------------------------------+--------------------------------------+--------------------------------------+---------------------+---------------------+---------------------+----------------------+---------------------+-----------------------+----------------------+----------------------+------------------------+------------------------+---------------------+---------------------+---------------------+----------------------+---------------------+-----------------------+----------------------+----------------------+------------------------+------------------------+----------------------------------+----------------------------------+----------------------------------+-----------------------------------+----------------------------------+------------------------------------+-----------------------------------+-----------------------------------+-------------------------------------+-------------------------------------+----------------------------------+----------------------------------+----------------------------------+-----------------------------------+----------------------------------+------------------------------------+-----------------------------------+-----------------------------------+-------------------------------------+-------------------------------------+---------------+--------------+----------------+--------------+-------------+---------------+------------------------------+-----------------------------------+---------------------+----------------------------------+--------------------+------------------------------+-----------------------------------+---------------------+----------------------------------+--------------------+------------------------------+-----------------------------------+---------------------+----------------------------------+--------------------+------------------------------+-----------------------------------+---------------------+----------------------------------+--------------------+----------------------------------+---------------------------------------+-----------------------------+--------------------------------------+------------------------+----------------------------------+---------------------------------------+-------------------------+--------------------------------------+------------------------+----------------------------------+---------------------------------------+-------------------------+--------------------------------------+------------------------+----------------------------------+---------------------------------------+-------------------------+--------------------------------------+------------------------+------------+------+--------+--------------------+--------------------+--------------------+----------+\n|2020-07-03|     S301KWK5|ST4000DM000|4.000787030016E12|    0.0|                     100.0|                          100.0|            100.0|                         100.0|            53.0|                       0.0|                            0.0|              0.0|                           0.0|         41520.0|     SEAGATE|185|                       100.0|                            100.0|              100.0|                           100.0|              53.0|                         0.0|                              0.0|                0.0|                             0.0|           41353.0|                       100.0|                            100.0|              100.0|                           100.0|              53.0|                         0.0|                              0.0|                0.0|                             0.0|           41377.0|                       100.0|                            100.0|              100.0|                           100.0|              53.0|                         0.0|                              0.0|                0.0|                             0.0|           41401.0|                       100.0|                            100.0|              100.0|                           100.0|              53.0|                         0.0|                              0.0|                0.0|                             0.0|           41425.0|                       100.0|                            100.0|              100.0|                           100.0|              53.0|                         0.0|                              0.0|                0.0|                             0.0|           41449.0|                       100.0|                            100.0|              100.0|                           100.0|              53.0|                         0.0|                              0.0|                0.0|                             0.0|           41473.0|                       100.0|                            100.0|              100.0|                           100.0|              53.0|                         0.0|                              0.0|                0.0|                             0.0|           41497.0|             41520.0|             41353.0|            331495.0|            41436.875|  1.0040384010833554|    1.0020060634398709|   0.9979979527938343|   1.0020282688075834|                    1.0|     1.0040384010833554|                53.0|                53.0|               424.0|                 53.0|                 1.0|                   1.0|                  1.0|                  1.0|                    1.0|                    1.0|                           0.0|                           0.0|                           0.0|                            0.0|                         -99.0|                           -99.0|                          -99.0|                          -99.0|                            -99.0|                            -99.0|                              100.0|                              100.0|                              800.0|                               100.0|                                1.0|                                  1.0|                                 1.0|                                 1.0|                                   1.0|                                   1.0|                         100.0|                         100.0|                         800.0|                          100.0|                           1.0|                             1.0|                            1.0|                            1.0|                              1.0|                              1.0|                                0.0|                                0.0|                                0.0|                                 0.0|                              -99.0|                                -99.0|                               -99.0|                               -99.0|                                 -99.0|                                 -99.0|                  0.0|                  0.0|                  0.0|                   0.0|                -99.0|                  -99.0|                 -99.0|                 -99.0|                   -99.0|                   -99.0|                100.0|                100.0|                800.0|                 100.0|                  1.0|                    1.0|                   1.0|                   1.0|                     1.0|                     1.0|                               0.0|                               0.0|                               0.0|                                0.0|                             -99.0|                               -99.0|                              -99.0|                              -99.0|                                -99.0|                                -99.0|                             100.0|                             100.0|                             800.0|                              100.0|                               1.0|                                 1.0|                                1.0|                                1.0|                                  1.0|                                  1.0|       0.692587|    -99.000000|     2047.000000|      0.473974|   -99.000000|    4899.000000|                     99.686735|                          92.990700|           100.000000|                         98.903084|           71.321096|                    393.451787|                           9.475281|             0.150759|                        242.158590|        25568.418013|                    102.269302|                          92.408214|            99.999551|                        101.451976|           81.556716|                   1980.494778|                         104.417415|           -99.000000|                        158.390129|        17861.799959|                1.0031424923892762|                     1.0753763554058322|                          1.0|                    1.0110908200080173|      0.7431181327165789|                               0.0|                                    0.0|                      0.0|                                   0.0|      1.6238783322196118|                0.9778105294354411|                      1.082154887061012|       1.0000044883504864|                    0.9856880437634994|      0.6498545150543654|                               0.0|                                    0.0|                      0.0|                                   0.0|      2.3245137721388063|  2020-11-03|     0|TRAINING|[4.000787030016E1...|[1.49675654206715...|[0.95228020777177...|       0.0|\n+----------+-------------+-----------+-----------------+-------+--------------------------+-------------------------------+-----------------+------------------------------+----------------+--------------------------+-------------------------------+-----------------+------------------------------+----------------+------------+---+----------------------------+---------------------------------+-------------------+--------------------------------+------------------+----------------------------+---------------------------------+-------------------+--------------------------------+------------------+----------------------------+---------------------------------+-------------------+--------------------------------+------------------+----------------------------+---------------------------------+-------------------+--------------------------------+------------------+----------------------------+---------------------------------+-------------------+--------------------------------+------------------+----------------------------+---------------------------------+-------------------+--------------------------------+------------------+----------------------------+---------------------------------+-------------------+--------------------------------+------------------+----------------------------+---------------------------------+-------------------+--------------------------------+------------------+----------------------------+---------------------------------+-------------------+--------------------------------+------------------+----------------------------+---------------------------------+-------------------+--------------------------------+------------------+----------------------------+---------------------------------+-------------------+--------------------------------+------------------+----------------------------+---------------------------------+-------------------+--------------------------------+------------------+----------------------------+---------------------------------+-------------------+--------------------------------+------------------+----------------------------+---------------------------------+-------------------+--------------------------------+------------------+--------------------+--------------------+--------------------+---------------------+--------------------+----------------------+---------------------+---------------------+-----------------------+-----------------------+--------------------+--------------------+--------------------+---------------------+--------------------+----------------------+---------------------+---------------------+-----------------------+-----------------------+------------------------------+------------------------------+------------------------------+-------------------------------+------------------------------+--------------------------------+-------------------------------+-------------------------------+---------------------------------+---------------------------------+-----------------------------------+-----------------------------------+-----------------------------------+------------------------------------+-----------------------------------+-------------------------------------+------------------------------------+------------------------------------+--------------------------------------+--------------------------------------+------------------------------+------------------------------+------------------------------+-------------------------------+------------------------------+--------------------------------+-------------------------------+-------------------------------+---------------------------------+---------------------------------+-----------------------------------+-----------------------------------+-----------------------------------+------------------------------------+-----------------------------------+-------------------------------------+------------------------------------+------------------------------------+--------------------------------------+--------------------------------------+---------------------+---------------------+---------------------+----------------------+---------------------+-----------------------+----------------------+----------------------+------------------------+------------------------+---------------------+---------------------+---------------------+----------------------+---------------------+-----------------------+----------------------+----------------------+------------------------+------------------------+----------------------------------+----------------------------------+----------------------------------+-----------------------------------+----------------------------------+------------------------------------+-----------------------------------+-----------------------------------+-------------------------------------+-------------------------------------+----------------------------------+----------------------------------+----------------------------------+-----------------------------------+----------------------------------+------------------------------------+-----------------------------------+-----------------------------------+-------------------------------------+-------------------------------------+---------------+--------------+----------------+--------------+-------------+---------------+------------------------------+-----------------------------------+---------------------+----------------------------------+--------------------+------------------------------+-----------------------------------+---------------------+----------------------------------+--------------------+------------------------------+-----------------------------------+---------------------+----------------------------------+--------------------+------------------------------+-----------------------------------+---------------------+----------------------------------+--------------------+----------------------------------+---------------------------------------+-----------------------------+--------------------------------------+------------------------+----------------------------------+---------------------------------------+-------------------------+--------------------------------------+------------------------+----------------------------------+---------------------------------------+-------------------------+--------------------------------------+------------------------+----------------------------------+---------------------------------------+-------------------------+--------------------------------------+------------------------+------------+------+--------+--------------------+--------------------+--------------------+----------+\nonly showing top 1 row\n\n"
                }
            ],
            "source": "pred.show(1)"
        },
        {
            "cell_type": "code",
            "execution_count": 68,
            "metadata": {},
            "outputs": [],
            "source": "pred=pred.select(\"DATE\",\"FAILURE\",\"SERIAL_NUMBER\",\"TARGET\",\"GROUP\",\"probability\",\"FAILURE_DATE\")"
        },
        {
            "cell_type": "markdown",
            "metadata": {},
            "source": "Convert probablity so that it is usable"
        },
        {
            "cell_type": "code",
            "execution_count": 69,
            "metadata": {
                "scrolled": true
            },
            "outputs": [],
            "source": "pred = pred.withColumn(\"probability\",col(\"probability\").cast((\"string\")))\npredy = pred.withColumn(\"left\", substring_index(pred.probability, ',', 1))\ncharReplace = udf(lambda x: x.replace(u'[',''))\npredy=predy.withColumn('left',charReplace('left'))\n\npredy = predy.withColumn(\"P_0\",col(\"left\").cast((\"decimal(38,37)\")))\npredy = predy.withColumn(\"P_1\",1-predy.P_0)"
        },
        {
            "cell_type": "markdown",
            "metadata": {},
            "source": "### 9.0 Export the data for use in Step 6 <a id=\"90\"></a>"
        },
        {
            "cell_type": "markdown",
            "metadata": {},
            "source": "Select Relevant fields"
        },
        {
            "cell_type": "code",
            "execution_count": 71,
            "metadata": {},
            "outputs": [],
            "source": "predy=predy.select(\"DATE\",\"SERIAL_NUMBER\",\"FAILURE\",\"TARGET\",\"GROUP\",\"P_0\",\"P_1\",\"FAILURE_DATE\")"
        },
        {
            "cell_type": "markdown",
            "metadata": {},
            "source": "Convert to Pandas"
        },
        {
            "cell_type": "code",
            "execution_count": 72,
            "metadata": {},
            "outputs": [],
            "source": "df_pred = predy.toPandas()"
        },
        {
            "cell_type": "markdown",
            "metadata": {},
            "source": "Convert to csv"
        },
        {
            "cell_type": "code",
            "execution_count": 73,
            "metadata": {},
            "outputs": [
                {
                    "data": {
                        "text/html": "<div>\n<style scoped>\n    .dataframe tbody tr th:only-of-type {\n        vertical-align: middle;\n    }\n\n    .dataframe tbody tr th {\n        vertical-align: top;\n    }\n\n    .dataframe thead th {\n        text-align: right;\n    }\n</style>\n<table border=\"1\" class=\"dataframe\">\n  <thead>\n    <tr style=\"text-align: right;\">\n      <th></th>\n      <th>DATE</th>\n      <th>SERIAL_NUMBER</th>\n      <th>FAILURE</th>\n      <th>TARGET</th>\n      <th>GROUP</th>\n      <th>P_0</th>\n      <th>P_1</th>\n      <th>FAILURE_DATE</th>\n    </tr>\n  </thead>\n  <tbody>\n    <tr>\n      <th>0</th>\n      <td>2020-07-03</td>\n      <td>S301KWK5</td>\n      <td>0.0</td>\n      <td>0</td>\n      <td>TRAINING</td>\n      <td>0.9522802077717716000000000000000000000</td>\n      <td>0.047719792228228400000000000000000000</td>\n      <td>2020-11-03</td>\n    </tr>\n    <tr>\n      <th>1</th>\n      <td>2020-06-17</td>\n      <td>ZA13YPR7</td>\n      <td>0.0</td>\n      <td>0</td>\n      <td>TRAINING</td>\n      <td>0.9314597082268131000000000000000000000</td>\n      <td>0.068540291773186900000000000000000000</td>\n      <td>2020-12-02</td>\n    </tr>\n    <tr>\n      <th>2</th>\n      <td>2020-04-21</td>\n      <td>57RFWNHHT</td>\n      <td>0.0</td>\n      <td>0</td>\n      <td>TRAINING</td>\n      <td>0.9354118328476536000000000000000000000</td>\n      <td>0.064588167152346400000000000000000000</td>\n      <td>2020-07-27</td>\n    </tr>\n    <tr>\n      <th>3</th>\n      <td>2020-02-24</td>\n      <td>S301KWK5</td>\n      <td>0.0</td>\n      <td>0</td>\n      <td>TRAINING</td>\n      <td>0.9522802077717716000000000000000000000</td>\n      <td>0.047719792228228400000000000000000000</td>\n      <td>2020-11-03</td>\n    </tr>\n    <tr>\n      <th>4</th>\n      <td>2020-03-12</td>\n      <td>S301KWK5</td>\n      <td>0.0</td>\n      <td>0</td>\n      <td>TRAINING</td>\n      <td>0.9522802077717716000000000000000000000</td>\n      <td>0.047719792228228400000000000000000000</td>\n      <td>2020-11-03</td>\n    </tr>\n  </tbody>\n</table>\n</div>",
                        "text/plain": "         DATE SERIAL_NUMBER  FAILURE  TARGET     GROUP  \\\n0  2020-07-03      S301KWK5      0.0       0  TRAINING   \n1  2020-06-17      ZA13YPR7      0.0       0  TRAINING   \n2  2020-04-21     57RFWNHHT      0.0       0  TRAINING   \n3  2020-02-24      S301KWK5      0.0       0  TRAINING   \n4  2020-03-12      S301KWK5      0.0       0  TRAINING   \n\n                                       P_0  \\\n0  0.9522802077717716000000000000000000000   \n1  0.9314597082268131000000000000000000000   \n2  0.9354118328476536000000000000000000000   \n3  0.9522802077717716000000000000000000000   \n4  0.9522802077717716000000000000000000000   \n\n                                      P_1 FAILURE_DATE  \n0  0.047719792228228400000000000000000000   2020-11-03  \n1  0.068540291773186900000000000000000000   2020-12-02  \n2  0.064588167152346400000000000000000000   2020-07-27  \n3  0.047719792228228400000000000000000000   2020-11-03  \n4  0.047719792228228400000000000000000000   2020-11-03  "
                    },
                    "execution_count": 73,
                    "metadata": {},
                    "output_type": "execute_result"
                }
            ],
            "source": "df_pred.head()"
        },
        {
            "cell_type": "code",
            "execution_count": 74,
            "metadata": {},
            "outputs": [],
            "source": "df_pred=df_pred.to_csv('pred.csv',index=False)"
        },
        {
            "cell_type": "markdown",
            "metadata": {},
            "source": "Define Object storage credentials."
        },
        {
            "cell_type": "code",
            "execution_count": 75,
            "metadata": {},
            "outputs": [],
            "source": "# The code was removed by Watson Studio for sharing."
        },
        {
            "cell_type": "code",
            "execution_count": 76,
            "metadata": {},
            "outputs": [],
            "source": "from ibm_botocore.client import Config\nimport ibm_boto3\ncos = ibm_boto3.client(service_name='s3',\n    ibm_api_key_id=credentials['IBM_API_KEY_ID'],\n    ibm_service_instance_id=credentials['IAM_SERVICE_ID'],\n    ibm_auth_endpoint=credentials['IBM_AUTH_ENDPOINT'],\n    config=Config(signature_version='oauth'),\n    endpoint_url=credentials['ENDPOINT'])"
        },
        {
            "cell_type": "markdown",
            "metadata": {},
            "source": "Export csv to object storage"
        },
        {
            "cell_type": "code",
            "execution_count": 77,
            "metadata": {},
            "outputs": [],
            "source": "cos.upload_file(Filename='pred.csv',Bucket=credentials['BUCKET'],Key='pred.csv')"
        },
        {
            "cell_type": "markdown",
            "metadata": {},
            "source": "All data used in this notebook is the property of BackBlaze.com.\n\nFor questions regarding use of data please see the following website. https://www.backblaze.com/b2/hard-drive-test-data.html"
        },
        {
            "cell_type": "code",
            "execution_count": null,
            "metadata": {},
            "outputs": [],
            "source": ""
        },
        {
            "cell_type": "code",
            "execution_count": null,
            "metadata": {},
            "outputs": [],
            "source": ""
        }
    ],
    "metadata": {
        "kernelspec": {
            "display_name": "Python 3.9 with Spark",
            "language": "python3",
            "name": "python39"
        },
        "language_info": {
            "codemirror_mode": {
                "name": "ipython",
                "version": 3
            },
            "file_extension": ".py",
            "mimetype": "text/x-python",
            "name": "python",
            "nbconvert_exporter": "python",
            "pygments_lexer": "ipython3",
            "version": "3.9.13"
        }
    },
    "nbformat": 4,
    "nbformat_minor": 1
}